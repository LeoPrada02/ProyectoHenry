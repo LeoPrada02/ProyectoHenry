{
 "cells": [
  {
   "cell_type": "code",
   "execution_count": 60,
   "metadata": {},
   "outputs": [],
   "source": [
    "pd.options.display.max_columns = 500"
   ]
  },
  {
   "cell_type": "code",
   "execution_count": 59,
   "metadata": {},
   "outputs": [],
   "source": [
    "import pandas as pd\n",
    "import numpy as np\n",
    "import ast"
   ]
  },
  {
   "cell_type": "code",
   "execution_count": 167,
   "metadata": {},
   "outputs": [
    {
     "name": "stderr",
     "output_type": "stream",
     "text": [
      "C:\\Users\\Leonardo\\AppData\\Local\\Temp\\ipykernel_3268\\1088195076.py:1: DtypeWarning: Columns (10) have mixed types. Specify dtype option on import or set low_memory=False.\n",
      "  df_movies= pd.read_csv('C:/Users/Leonardo/Desktop/New folder (2)/jupyter/movies_dataset.csv')\n"
     ]
    }
   ],
   "source": [
    "df_movies= pd.read_csv('C:/Users/Leonardo/Desktop/New folder (2)/jupyter/movies_dataset.csv')"
   ]
  },
  {
   "cell_type": "code",
   "execution_count": 7,
   "metadata": {},
   "outputs": [
    {
     "data": {
      "text/plain": [
       "'Toy Story Collection'"
      ]
     },
     "execution_count": 7,
     "metadata": {},
     "output_type": "execute_result"
    }
   ],
   "source": [
    "df_movies['belongs_to_collection'][0]"
   ]
  },
  {
   "cell_type": "markdown",
   "metadata": {},
   "source": [
    "esta funcion extrae la columna belongs to collection, obtiene el diccionario de cada fila y extrae la llave 'name' para mostrar solo el nombre en la misma columna"
   ]
  },
  {
   "cell_type": "code",
   "execution_count": 168,
   "metadata": {},
   "outputs": [],
   "source": [
    "def extraer_nombre_collection(collection):\n",
    "    if pd.isnull(collection):\n",
    "        return np.nan\n",
    "    else:\n",
    "        try:\n",
    "            return ast.literal_eval(collection)['name']\n",
    "        except (ValueError, TypeError):\n",
    "            return np.nan\n",
    "\n",
    "df_movies['belongs_to_collection'] = df_movies['belongs_to_collection'].apply(extraer_nombre_collection)"
   ]
  },
  {
   "cell_type": "code",
   "execution_count": 191,
   "metadata": {},
   "outputs": [
    {
     "data": {
      "text/plain": [
       "'Comedy'"
      ]
     },
     "execution_count": 191,
     "metadata": {},
     "output_type": "execute_result"
    }
   ],
   "source": [
    "df_movies.loc[0,'genero2']"
   ]
  },
  {
   "cell_type": "code",
   "execution_count": 169,
   "metadata": {},
   "outputs": [],
   "source": [
    "df_moviesprueba = df_movies.copy()"
   ]
  },
  {
   "cell_type": "code",
   "execution_count": 170,
   "metadata": {},
   "outputs": [],
   "source": [
    "df_movies['genres'] = df_movies['genres'].apply(ast.literal_eval)"
   ]
  },
  {
   "cell_type": "markdown",
   "metadata": {},
   "source": [
    "las siguientes 2 funciones son para extraer al menos 2 generos de la columna 'genres' cada genero tendra su nueva columna, genero1 y genero2 respectivamente"
   ]
  },
  {
   "cell_type": "code",
   "execution_count": 171,
   "metadata": {},
   "outputs": [],
   "source": [
    "df_movies['genero1'] = df_movies['genres'].apply(lambda x : x[0]['name'] if isinstance(x, list) \n",
    "                                                             and len(x)> 0 else np.nan)"
   ]
  },
  {
   "cell_type": "code",
   "execution_count": 172,
   "metadata": {},
   "outputs": [],
   "source": [
    "def extraer_genre2(series):\n",
    "        try:\n",
    "            return series[1]['name']\n",
    "        except (IndexError):\n",
    "            return np.nan"
   ]
  },
  {
   "cell_type": "code",
   "execution_count": 173,
   "metadata": {},
   "outputs": [],
   "source": [
    "df_movies['genero2'] = df_movies['genres'].apply(extraer_genre2)"
   ]
  },
  {
   "cell_type": "code",
   "execution_count": 68,
   "metadata": {},
   "outputs": [
    {
     "data": {
      "text/plain": [
       "0    [{'id': 16, 'name': 'Animation'}, {'id': 35, '...\n",
       "1    [{'id': 12, 'name': 'Adventure'}, {'id': 14, '...\n",
       "2    [{'id': 10749, 'name': 'Romance'}, {'id': 35, ...\n",
       "3    [{'id': 35, 'name': 'Comedy'}, {'id': 18, 'nam...\n",
       "4                       [{'id': 35, 'name': 'Comedy'}]\n",
       "Name: genres, dtype: object"
      ]
     },
     "execution_count": 68,
     "metadata": {},
     "output_type": "execute_result"
    }
   ],
   "source": [
    "df_moviesprueba['genres'][:5]"
   ]
  },
  {
   "cell_type": "markdown",
   "metadata": {},
   "source": [
    "Funcion desanidar 'production_companies'"
   ]
  },
  {
   "cell_type": "code",
   "execution_count": 174,
   "metadata": {},
   "outputs": [],
   "source": [
    "nombre_columna = 'production_companies'\n",
    "df_moviesprueba = df_moviesprueba.dropna(subset=[nombre_columna])"
   ]
  },
  {
   "cell_type": "code",
   "execution_count": 80,
   "metadata": {},
   "outputs": [],
   "source": [
    "df_moviesprueba['production_companies'] = df_moviesprueba['production_companies'].apply(ast.literal_eval)"
   ]
  },
  {
   "cell_type": "markdown",
   "metadata": {},
   "source": [
    "bucle desanidar 'production companies'"
   ]
  },
  {
   "cell_type": "code",
   "execution_count": 175,
   "metadata": {},
   "outputs": [
    {
     "name": "stderr",
     "output_type": "stream",
     "text": [
      "C:\\Users\\Leonardo\\AppData\\Local\\Temp\\ipykernel_3268\\3278122366.py:9: SettingWithCopyWarning: \n",
      "A value is trying to be set on a copy of a slice from a DataFrame\n",
      "\n",
      "See the caveats in the documentation: https://pandas.pydata.org/pandas-docs/stable/user_guide/indexing.html#returning-a-view-versus-a-copy\n",
      "  df_movies[f'prcompany{j+1}'][i] = df['name'][j]\n",
      "C:\\Users\\Leonardo\\AppData\\Local\\Temp\\ipykernel_3268\\3278122366.py:9: SettingWithCopyWarning: \n",
      "A value is trying to be set on a copy of a slice from a DataFrame\n",
      "\n",
      "See the caveats in the documentation: https://pandas.pydata.org/pandas-docs/stable/user_guide/indexing.html#returning-a-view-versus-a-copy\n",
      "  df_movies[f'prcompany{j+1}'][i] = df['name'][j]\n"
     ]
    }
   ],
   "source": [
    "df_movies['prcompany1'] = np.nan\n",
    "df_movies['prcompany2'] = np.nan\n",
    "\n",
    "for i in range(len(df_movies)):\n",
    "    try:\n",
    "        df = pd.json_normalize(eval(df_movies['production_companies'][i]))\n",
    "\n",
    "        for j in range(len(df)):\n",
    "            df_movies[f'prcompany{j+1}'][i] = df['name'][j]\n",
    "    except:\n",
    "        continue"
   ]
  },
  {
   "cell_type": "markdown",
   "metadata": {},
   "source": [
    "desanidar 'production countries'"
   ]
  },
  {
   "cell_type": "code",
   "execution_count": 176,
   "metadata": {},
   "outputs": [
    {
     "name": "stderr",
     "output_type": "stream",
     "text": [
      "C:\\Users\\Leonardo\\AppData\\Local\\Temp\\ipykernel_3268\\2734867924.py:8: SettingWithCopyWarning: \n",
      "A value is trying to be set on a copy of a slice from a DataFrame\n",
      "\n",
      "See the caveats in the documentation: https://pandas.pydata.org/pandas-docs/stable/user_guide/indexing.html#returning-a-view-versus-a-copy\n",
      "  df_movies['country'][i] = df['name'][j]\n"
     ]
    }
   ],
   "source": [
    "df_movies['country'] = np.nan\n",
    "\n",
    "for i in range(len(df_movies)):\n",
    "    try:\n",
    "        df = pd.json_normalize(eval(df_movies['production_countries'][i]))\n",
    "\n",
    "        for j in range(len(df)):\n",
    "            df_movies['country'][i] = df['name'][j]\n",
    "    except:\n",
    "        continue"
   ]
  },
  {
   "cell_type": "markdown",
   "metadata": {},
   "source": [
    "desanidar 'spoken languages'"
   ]
  },
  {
   "cell_type": "code",
   "execution_count": 177,
   "metadata": {},
   "outputs": [
    {
     "name": "stderr",
     "output_type": "stream",
     "text": [
      "C:\\Users\\Leonardo\\AppData\\Local\\Temp\\ipykernel_3268\\3786242134.py:8: SettingWithCopyWarning: \n",
      "A value is trying to be set on a copy of a slice from a DataFrame\n",
      "\n",
      "See the caveats in the documentation: https://pandas.pydata.org/pandas-docs/stable/user_guide/indexing.html#returning-a-view-versus-a-copy\n",
      "  df_movies['language'][i] = df['name'][j]\n"
     ]
    }
   ],
   "source": [
    "df_movies['language'] = np.nan\n",
    "\n",
    "for i in range(len(df_movies)):\n",
    "    try:\n",
    "        df = pd.json_normalize(eval(df_movies['spoken_languages'][i]))\n",
    "\n",
    "        for j in range(len(df)):\n",
    "            df_movies['language'][i] = df['name'][j]\n",
    "    except:\n",
    "        continue"
   ]
  },
  {
   "cell_type": "markdown",
   "metadata": {},
   "source": [
    "Rellenamos los valores nulos de budget y revenue con ceros"
   ]
  },
  {
   "cell_type": "code",
   "execution_count": 178,
   "metadata": {},
   "outputs": [],
   "source": [
    "df_movies['budget'] = df_movies['budget'].fillna(0)\n",
    "df_movies['revenue'] = df_movies['revenue'].fillna(0)"
   ]
  },
  {
   "cell_type": "markdown",
   "metadata": {},
   "source": [
    "eliminar valores nulos de release date"
   ]
  },
  {
   "cell_type": "code",
   "execution_count": 179,
   "metadata": {},
   "outputs": [],
   "source": [
    "columna= 'release_date'\n",
    "df_moviesprueba = df_moviesprueba.dropna(subset=[columna])"
   ]
  },
  {
   "cell_type": "code",
   "execution_count": 198,
   "metadata": {},
   "outputs": [],
   "source": [
    "#df_moviesprueba['release_year'] = df_moviesprueba['release_date'].apply(lambda x: x[:4])"
   ]
  },
  {
   "cell_type": "code",
   "execution_count": 256,
   "metadata": {},
   "outputs": [],
   "source": [
    "df_movies['release_date'] =  pd.to_datetime(df_movies['release_date'], errors='coerce')"
   ]
  },
  {
   "cell_type": "code",
   "execution_count": 225,
   "metadata": {},
   "outputs": [],
   "source": [
    "df_movies['release_year'] =  pd.to_datetime(df_movies['release_year'], errors='coerce')"
   ]
  },
  {
   "cell_type": "code",
   "execution_count": 259,
   "metadata": {},
   "outputs": [],
   "source": [
    "#df_movies['release_year'] = df_movies['release_year'].dt.strftime('%Y')\n",
    "df_movies['release_year'] = pd.to_datetime(df_movies['release_date'], format='%Y')"
   ]
  },
  {
   "cell_type": "code",
   "execution_count": 260,
   "metadata": {},
   "outputs": [],
   "source": [
    "#df_movies['release_year'] = df_movies['release_year'].dt.year\n",
    "df_movies['release_year'] = df_movies['release_year'].dt.to_period('Y')"
   ]
  },
  {
   "cell_type": "markdown",
   "metadata": {},
   "source": [
    "reemplazo por 0 algunos valores extraños que no me permitian pasar budget a int "
   ]
  },
  {
   "cell_type": "code",
   "execution_count": 180,
   "metadata": {},
   "outputs": [],
   "source": [
    "df_movies['budget'] = df_movies['budget'].replace('/zaSf5OG7V8X8gqFvly88zDdRm46.jpg', 0)\n",
    "df_movies['budget'] = df_movies['budget'].replace('/ff9qCepilowshEtG2GYWwzt2bs4.jpg', 0)\n",
    "df_movies['budget'] = df_movies['budget'].replace('/zV8bHuSL6WXoD6FWogP9j4x80bL.jpg', 0)"
   ]
  },
  {
   "cell_type": "markdown",
   "metadata": {},
   "source": [
    "Convierto budget de string a entero"
   ]
  },
  {
   "cell_type": "code",
   "execution_count": 181,
   "metadata": {},
   "outputs": [],
   "source": [
    "df_movies['budget'] = df_movies['budget'].astype(int)"
   ]
  },
  {
   "cell_type": "markdown",
   "metadata": {},
   "source": [
    "Esta funcion calcula la columna return solo si la operacion es posible, de lo contrario simplemente devuelve 0"
   ]
  },
  {
   "cell_type": "code",
   "execution_count": 182,
   "metadata": {},
   "outputs": [],
   "source": [
    "def calcular_columna(row):\n",
    "    if row['budget'] != 0 and row['revenue'] != 0:\n",
    "        return row['revenue'] / row['budget']\n",
    "    else:\n",
    "        return 0\n",
    "\n",
    "df_movies['return'] = df_movies.apply(calcular_columna, axis=1)"
   ]
  },
  {
   "cell_type": "markdown",
   "metadata": {},
   "source": [
    "Eliminar las columnas que no serán utilizadas, video,imdb_id,adult,original_title,poster_path y homepage"
   ]
  },
  {
   "cell_type": "code",
   "execution_count": 263,
   "metadata": {},
   "outputs": [],
   "source": [
    "df_movies.drop(columns=['imdb_id', 'video', 'adult', 'original_title', 'poster_path', 'homepage' ], inplace=True)"
   ]
  }
 ],
 "metadata": {
  "kernelspec": {
   "display_name": "Python 3",
   "language": "python",
   "name": "python3"
  },
  "language_info": {
   "codemirror_mode": {
    "name": "ipython",
    "version": 3
   },
   "file_extension": ".py",
   "mimetype": "text/x-python",
   "name": "python",
   "nbconvert_exporter": "python",
   "pygments_lexer": "ipython3",
   "version": "3.10.5"
  },
  "orig_nbformat": 4
 },
 "nbformat": 4,
 "nbformat_minor": 2
}
