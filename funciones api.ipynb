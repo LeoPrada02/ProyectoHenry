{
 "cells": [
  {
   "cell_type": "code",
   "execution_count": 1,
   "metadata": {},
   "outputs": [],
   "source": [
    "import pandas as pd\n",
    "import numpy as np \n",
    "import ast\n"
   ]
  },
  {
   "cell_type": "code",
   "execution_count": 2,
   "metadata": {},
   "outputs": [],
   "source": [
    "pd.options.display.max_columns = 500"
   ]
  },
  {
   "cell_type": "code",
   "execution_count": 2,
   "metadata": {},
   "outputs": [],
   "source": [
    "df= pd.read_csv('df_directores.csv', index_col='Unnamed: 0')"
   ]
  },
  {
   "cell_type": "code",
   "execution_count": 5,
   "metadata": {},
   "outputs": [],
   "source": [
    "df.drop(columns=['tagline', 'overview'], inplace=True)"
   ]
  },
  {
   "cell_type": "code",
   "execution_count": 10,
   "metadata": {},
   "outputs": [],
   "source": [
    "directores.rename(columns={'name' : 'director'}, inplace=True)\n",
    "directores.drop(columns=['job', 'Unnamed: 0'], inplace=True)\n"
   ]
  },
  {
   "cell_type": "code",
   "execution_count": 11,
   "metadata": {},
   "outputs": [],
   "source": [
    "dfdirectores = pd.merge(df, directores, on='id')"
   ]
  },
  {
   "cell_type": "code",
   "execution_count": 112,
   "metadata": {},
   "outputs": [],
   "source": [
    "eliminar=['genres', 'production_companies']"
   ]
  },
  {
   "cell_type": "code",
   "execution_count": 113,
   "metadata": {},
   "outputs": [
    {
     "name": "stderr",
     "output_type": "stream",
     "text": [
      "C:\\Users\\Leonardo\\AppData\\Local\\Temp\\ipykernel_6884\\395392522.py:1: SettingWithCopyWarning: \n",
      "A value is trying to be set on a copy of a slice from a DataFrame\n",
      "\n",
      "See the caveats in the documentation: https://pandas.pydata.org/pandas-docs/stable/user_guide/indexing.html#returning-a-view-versus-a-copy\n",
      "  dfdirectores.drop(columns=eliminar,inplace=True)\n"
     ]
    }
   ],
   "source": [
    "dfdirectores.drop(columns=eliminar,inplace=True)"
   ]
  },
  {
   "cell_type": "markdown",
   "metadata": {},
   "source": [
    "def peliculas_idioma( Idioma: str ): Se ingresa un idioma (como están escritos en el dataset, no hay que traducirlos!). Debe devolver la cantidad de películas producidas en ese idioma.\n",
    "                    Ejemplo de retorno: X cantidad de películas fueron estrenadas en idioma"
   ]
  },
  {
   "cell_type": "code",
   "execution_count": 109,
   "metadata": {},
   "outputs": [],
   "source": [
    "def peliculas_idioma(idioma:str):\n",
    "    contador= 0\n",
    "    for i in df['original_language']:\n",
    "        if idioma == i:\n",
    "            contador+=1\n",
    "        else:\n",
    "            continue\n",
    "    return contador"
   ]
  },
  {
   "cell_type": "code",
   "execution_count": 111,
   "metadata": {},
   "outputs": [
    {
     "data": {
      "text/plain": [
       "992"
      ]
     },
     "execution_count": 111,
     "metadata": {},
     "output_type": "execute_result"
    }
   ],
   "source": [
    "peliculas_idioma('es')"
   ]
  },
  {
   "cell_type": "code",
   "execution_count": 19,
   "metadata": {},
   "outputs": [],
   "source": [
    "df['production_countries'] = df['production_countries'].apply(ast.literal_eval)"
   ]
  },
  {
   "cell_type": "code",
   "execution_count": 101,
   "metadata": {},
   "outputs": [],
   "source": [
    "mask = dfdirectores['status'] == 'Released'"
   ]
  },
  {
   "cell_type": "code",
   "execution_count": 102,
   "metadata": {},
   "outputs": [],
   "source": [
    "dfdirectores = dfdirectores[mask]"
   ]
  },
  {
   "cell_type": "markdown",
   "metadata": {},
   "source": [
    "def peliculas_duracion( Pelicula: str ): Se ingresa una pelicula. \n",
    "Debe devolver la duracion y el año.\n",
    "Ejemplo de retorno: X . Duración: x. Año: xx"
   ]
  },
  {
   "cell_type": "code",
   "execution_count": 6,
   "metadata": {},
   "outputs": [],
   "source": [
    "def peliculas_duracion(pelicula:str):\n",
    "    for i, j in enumerate(df['title']):\n",
    "        if j == pelicula:\n",
    "            return print(f\"Duracion: {df['runtime'][i]} minutos, año: {df['release_year'][i]}\")\n",
    "        else:\n",
    "            continue"
   ]
  },
  {
   "cell_type": "code",
   "execution_count": 8,
   "metadata": {},
   "outputs": [
    {
     "name": "stdout",
     "output_type": "stream",
     "text": [
      "Duracion: 104.0 minutos, año: 1995\n"
     ]
    }
   ],
   "source": [
    "peliculas_duracion('Jumanji')"
   ]
  },
  {
   "cell_type": "markdown",
   "metadata": {},
   "source": [
    "def franquicia( Franquicia: str ): Se ingresa la franquicia, retornando la cantidad de peliculas, ganancia total y promedio\n",
    "                    Ejemplo de retorno: La franquicia X posee X peliculas, una ganancia total de x y una ganancia promedio de xx"
   ]
  },
  {
   "cell_type": "code",
   "execution_count": 14,
   "metadata": {},
   "outputs": [],
   "source": [
    "def franquicia(Franquicia:str):\n",
    "    collection = df[df['belongs_to_collection'] == Franquicia]\n",
    "    numero = len(collection) \n",
    "    ganancia = collection['revenue'].sum()\n",
    "    avg = collection['revenue'].mean()\n",
    "    return f'La franquicia {Franquicia} tiene {numero} peliculas, una ganancia de {ganancia} y una ganancia promedio de {avg}'\n",
    "  "
   ]
  },
  {
   "cell_type": "code",
   "execution_count": 15,
   "metadata": {},
   "outputs": [
    {
     "data": {
      "text/plain": [
       "'La franquicia Toy Story Collection tiene 3 peliculas, una ganancia de 1937890605.0 y una ganancia promedio de 645963535.0'"
      ]
     },
     "execution_count": 15,
     "metadata": {},
     "output_type": "execute_result"
    }
   ],
   "source": [
    "franquicia('Toy Story Collection')"
   ]
  },
  {
   "cell_type": "markdown",
   "metadata": {},
   "source": [
    "def peliculas_pais( Pais: str ): Se ingresa un país (como están escritos en el dataset, no hay que traducirlos!), retornando la cantidad de peliculas producidas en el mismo.\n",
    "                    Ejemplo de retorno: Se produjeron X películas en el país X"
   ]
  },
  {
   "cell_type": "code",
   "execution_count": 67,
   "metadata": {},
   "outputs": [],
   "source": [
    "def peliculas_pais(pais:str):\n",
    "    paiss = df[df['country'] == pais]\n",
    "    paiss['country']\n",
    "    return print(f'se produjeron {paiss.shape[0]} en el pais {pais}')"
   ]
  },
  {
   "cell_type": "markdown",
   "metadata": {},
   "source": [
    "def productoras_exitosas( Productora: str ): Se ingresa la productora, entregandote el revenue total y la cantidad de peliculas que realizo.\n",
    "                    Ejemplo de retorno: La productora X ha tenido un revenue de x"
   ]
  },
  {
   "cell_type": "code",
   "execution_count": 11,
   "metadata": {},
   "outputs": [],
   "source": [
    "def productoras_exitosas(productora:str):\n",
    "    pr= df[df['prcompany1'] == productora]\n",
    "    ganancia = pr['revenue'].sum()\n",
    "    return (f'la productora {productora} tiene {len(pr)} peliculas y una ganancia total de {ganancia}')"
   ]
  },
  {
   "cell_type": "code",
   "execution_count": 12,
   "metadata": {},
   "outputs": [
    {
     "data": {
      "text/plain": [
       "'la productora Pixar Animation Studios tiene 29 peliculas y una ganancia total de 2546355520.0'"
      ]
     },
     "execution_count": 12,
     "metadata": {},
     "output_type": "execute_result"
    }
   ],
   "source": [
    "productoras_exitosas('Pixar Animation Studios')"
   ]
  },
  {
   "cell_type": "markdown",
   "metadata": {},
   "source": [
    "def get_director( nombre_director ): Se ingresa el nombre de un director que se encuentre dentro de un dataset debiendo devolver el éxito del mismo medido a través del retorno. Además, deberá devolver el nombre de cada película con la fecha de lanzamiento, retorno individual, costo y ganancia de la misma, en formato lista."
   ]
  },
  {
   "cell_type": "code",
   "execution_count": 23,
   "metadata": {},
   "outputs": [],
   "source": [
    "def get_director(nombre_director):\n",
    "    series = df[df['director'] == nombre_director]\n",
    "    retorno = series['return'].sum()\n",
    "    pe= {}\n",
    "    pe['director'] = nombre_director\n",
    "    pe['retorno total'] = retorno\n",
    " \n",
    "    peliculas = []\n",
    "    \n",
    "    for i in range(len(series)):\n",
    "        peli = {}\n",
    "        peli['titulo'] = ((series['title'].iloc[i]))\n",
    "        peli['fecha de estreno'] = (series['release_date'].iloc[i])\n",
    "        peli['retorno'] = (series['return'].iloc[i])\n",
    "        peli['presupuesto'] = (series['budget'].iloc[i])\n",
    "        peli['ganancia'] = (series['revenue'].iloc[i])\n",
    "        peliculas.append(peli)\n",
    "    pe['peliculas'] = peliculas\n",
    "    return pe\n",
    "        "
   ]
  },
  {
   "cell_type": "code",
   "execution_count": 24,
   "metadata": {},
   "outputs": [
    {
     "data": {
      "text/plain": [
       "{'director': 'Christopher Nolan',\n",
       " 'retorno total': 44.42255888764903,\n",
       " 'peliculas': [{'titulo': 'Following',\n",
       "   'fecha de estreno': '1998-09-12',\n",
       "   'retorno': 8.080333333333334,\n",
       "   'presupuesto': 6000,\n",
       "   'ganancia': 48482.0},\n",
       "  {'titulo': 'Memento',\n",
       "   'fecha de estreno': '2000-10-11',\n",
       "   'retorno': 4.413677333333333,\n",
       "   'presupuesto': 9000000,\n",
       "   'ganancia': 39723096.0},\n",
       "  {'titulo': 'Insomnia',\n",
       "   'fecha de estreno': '2002-05-24',\n",
       "   'retorno': 2.47206152173913,\n",
       "   'presupuesto': 46000000,\n",
       "   'ganancia': 113714830.0},\n",
       "  {'titulo': 'Batman Begins',\n",
       "   'fecha de estreno': '2005-06-10',\n",
       "   'retorno': 2.4947911533333333,\n",
       "   'presupuesto': 150000000,\n",
       "   'ganancia': 374218673.0},\n",
       "  {'titulo': 'The Prestige',\n",
       "   'fecha de estreno': '2006-10-19',\n",
       "   'retorno': 2.741907775,\n",
       "   'presupuesto': 40000000,\n",
       "   'ganancia': 109676311.0},\n",
       "  {'titulo': 'The Dark Knight',\n",
       "   'fecha de estreno': '2008-07-16',\n",
       "   'retorno': 5.430045643243243,\n",
       "   'presupuesto': 185000000,\n",
       "   'ganancia': 1004558444.0},\n",
       "  {'titulo': 'Inception',\n",
       "   'fecha de estreno': '2010-07-14',\n",
       "   'retorno': 5.159579775,\n",
       "   'presupuesto': 160000000,\n",
       "   'ganancia': 825532764.0},\n",
       "  {'titulo': 'The Dark Knight Rises',\n",
       "   'fecha de estreno': '2012-07-16',\n",
       "   'retorno': 4.339756396,\n",
       "   'presupuesto': 250000000,\n",
       "   'ganancia': 1084939099.0},\n",
       "  {'titulo': 'Interstellar',\n",
       "   'fecha de estreno': '2014-11-05',\n",
       "   'retorno': 4.0916364666666665,\n",
       "   'presupuesto': 165000000,\n",
       "   'ganancia': 675120017.0},\n",
       "  {'titulo': 'Doodlebug',\n",
       "   'fecha de estreno': '1997-01-01',\n",
       "   'retorno': 0.0,\n",
       "   'presupuesto': 0,\n",
       "   'ganancia': 0.0},\n",
       "  {'titulo': 'Doodlebug',\n",
       "   'fecha de estreno': '1997-01-01',\n",
       "   'retorno': 0.0,\n",
       "   'presupuesto': 0,\n",
       "   'ganancia': 0.0},\n",
       "  {'titulo': 'Dunkirk',\n",
       "   'fecha de estreno': '2017-07-19',\n",
       "   'retorno': 5.19876949,\n",
       "   'presupuesto': 100000000,\n",
       "   'ganancia': 519876949.0}]}"
      ]
     },
     "execution_count": 24,
     "metadata": {},
     "output_type": "execute_result"
    }
   ],
   "source": [
    "get_director('Christopher Nolan')"
   ]
  },
  {
   "cell_type": "code",
   "execution_count": 6,
   "metadata": {},
   "outputs": [
    {
     "data": {
      "text/html": [
       "<div>\n",
       "<style scoped>\n",
       "    .dataframe tbody tr th:only-of-type {\n",
       "        vertical-align: middle;\n",
       "    }\n",
       "\n",
       "    .dataframe tbody tr th {\n",
       "        vertical-align: top;\n",
       "    }\n",
       "\n",
       "    .dataframe thead th {\n",
       "        text-align: right;\n",
       "    }\n",
       "</style>\n",
       "<table border=\"1\" class=\"dataframe\">\n",
       "  <thead>\n",
       "    <tr style=\"text-align: right;\">\n",
       "      <th></th>\n",
       "      <th>belongs_to_collection</th>\n",
       "      <th>budget</th>\n",
       "      <th>id</th>\n",
       "      <th>original_language</th>\n",
       "      <th>popularity</th>\n",
       "      <th>production_countries</th>\n",
       "      <th>release_date</th>\n",
       "      <th>revenue</th>\n",
       "      <th>runtime</th>\n",
       "      <th>spoken_languages</th>\n",
       "      <th>status</th>\n",
       "      <th>title</th>\n",
       "      <th>vote_average</th>\n",
       "      <th>vote_count</th>\n",
       "      <th>genero1</th>\n",
       "      <th>genero2</th>\n",
       "      <th>prcompany1</th>\n",
       "      <th>prcompany2</th>\n",
       "      <th>country</th>\n",
       "      <th>language</th>\n",
       "      <th>release_year</th>\n",
       "      <th>return</th>\n",
       "      <th>director</th>\n",
       "    </tr>\n",
       "  </thead>\n",
       "  <tbody>\n",
       "    <tr>\n",
       "      <th>0</th>\n",
       "      <td>Toy Story Collection</td>\n",
       "      <td>30000000</td>\n",
       "      <td>862</td>\n",
       "      <td>en</td>\n",
       "      <td>21.946943</td>\n",
       "      <td>[{'iso_3166_1': 'US', 'name': 'United States o...</td>\n",
       "      <td>1995-10-30</td>\n",
       "      <td>373554033.0</td>\n",
       "      <td>81.0</td>\n",
       "      <td>[{'iso_639_1': 'en', 'name': 'English'}]</td>\n",
       "      <td>Released</td>\n",
       "      <td>Toy Story</td>\n",
       "      <td>7.7</td>\n",
       "      <td>5415.0</td>\n",
       "      <td>Animation</td>\n",
       "      <td>Comedy</td>\n",
       "      <td>Pixar Animation Studios</td>\n",
       "      <td>NaN</td>\n",
       "      <td>United States of America</td>\n",
       "      <td>English</td>\n",
       "      <td>1995</td>\n",
       "      <td>12.451801</td>\n",
       "      <td>John Lasseter</td>\n",
       "    </tr>\n",
       "    <tr>\n",
       "      <th>1</th>\n",
       "      <td>NaN</td>\n",
       "      <td>65000000</td>\n",
       "      <td>8844</td>\n",
       "      <td>en</td>\n",
       "      <td>17.015539</td>\n",
       "      <td>[{'iso_3166_1': 'US', 'name': 'United States o...</td>\n",
       "      <td>1995-12-15</td>\n",
       "      <td>262797249.0</td>\n",
       "      <td>104.0</td>\n",
       "      <td>[{'iso_639_1': 'en', 'name': 'English'}, {'iso...</td>\n",
       "      <td>Released</td>\n",
       "      <td>Jumanji</td>\n",
       "      <td>6.9</td>\n",
       "      <td>2413.0</td>\n",
       "      <td>Adventure</td>\n",
       "      <td>Fantasy</td>\n",
       "      <td>TriStar Pictures</td>\n",
       "      <td>Teitler Film</td>\n",
       "      <td>United States of America</td>\n",
       "      <td>Français</td>\n",
       "      <td>1995</td>\n",
       "      <td>4.043035</td>\n",
       "      <td>Joe Johnston</td>\n",
       "    </tr>\n",
       "    <tr>\n",
       "      <th>2</th>\n",
       "      <td>Grumpy Old Men Collection</td>\n",
       "      <td>0</td>\n",
       "      <td>15602</td>\n",
       "      <td>en</td>\n",
       "      <td>11.712900</td>\n",
       "      <td>[{'iso_3166_1': 'US', 'name': 'United States o...</td>\n",
       "      <td>1995-12-22</td>\n",
       "      <td>0.0</td>\n",
       "      <td>101.0</td>\n",
       "      <td>[{'iso_639_1': 'en', 'name': 'English'}]</td>\n",
       "      <td>Released</td>\n",
       "      <td>Grumpier Old Men</td>\n",
       "      <td>6.5</td>\n",
       "      <td>92.0</td>\n",
       "      <td>Romance</td>\n",
       "      <td>Comedy</td>\n",
       "      <td>Warner Bros.</td>\n",
       "      <td>Lancaster Gate</td>\n",
       "      <td>United States of America</td>\n",
       "      <td>English</td>\n",
       "      <td>1995</td>\n",
       "      <td>0.000000</td>\n",
       "      <td>Howard Deutch</td>\n",
       "    </tr>\n",
       "    <tr>\n",
       "      <th>3</th>\n",
       "      <td>NaN</td>\n",
       "      <td>16000000</td>\n",
       "      <td>31357</td>\n",
       "      <td>en</td>\n",
       "      <td>3.859495</td>\n",
       "      <td>[{'iso_3166_1': 'US', 'name': 'United States o...</td>\n",
       "      <td>1995-12-22</td>\n",
       "      <td>81452156.0</td>\n",
       "      <td>127.0</td>\n",
       "      <td>[{'iso_639_1': 'en', 'name': 'English'}]</td>\n",
       "      <td>Released</td>\n",
       "      <td>Waiting to Exhale</td>\n",
       "      <td>6.1</td>\n",
       "      <td>34.0</td>\n",
       "      <td>Comedy</td>\n",
       "      <td>Drama</td>\n",
       "      <td>Twentieth Century Fox Film Corporation</td>\n",
       "      <td>NaN</td>\n",
       "      <td>United States of America</td>\n",
       "      <td>English</td>\n",
       "      <td>1995</td>\n",
       "      <td>5.090760</td>\n",
       "      <td>Forest Whitaker</td>\n",
       "    </tr>\n",
       "    <tr>\n",
       "      <th>4</th>\n",
       "      <td>Father of the Bride Collection</td>\n",
       "      <td>0</td>\n",
       "      <td>11862</td>\n",
       "      <td>en</td>\n",
       "      <td>8.387519</td>\n",
       "      <td>[{'iso_3166_1': 'US', 'name': 'United States o...</td>\n",
       "      <td>1995-02-10</td>\n",
       "      <td>76578911.0</td>\n",
       "      <td>106.0</td>\n",
       "      <td>[{'iso_639_1': 'en', 'name': 'English'}]</td>\n",
       "      <td>Released</td>\n",
       "      <td>Father of the Bride Part II</td>\n",
       "      <td>5.7</td>\n",
       "      <td>173.0</td>\n",
       "      <td>Comedy</td>\n",
       "      <td>NaN</td>\n",
       "      <td>Sandollar Productions</td>\n",
       "      <td>Touchstone Pictures</td>\n",
       "      <td>United States of America</td>\n",
       "      <td>English</td>\n",
       "      <td>1995</td>\n",
       "      <td>0.000000</td>\n",
       "      <td>Charles Shyer</td>\n",
       "    </tr>\n",
       "    <tr>\n",
       "      <th>...</th>\n",
       "      <td>...</td>\n",
       "      <td>...</td>\n",
       "      <td>...</td>\n",
       "      <td>...</td>\n",
       "      <td>...</td>\n",
       "      <td>...</td>\n",
       "      <td>...</td>\n",
       "      <td>...</td>\n",
       "      <td>...</td>\n",
       "      <td>...</td>\n",
       "      <td>...</td>\n",
       "      <td>...</td>\n",
       "      <td>...</td>\n",
       "      <td>...</td>\n",
       "      <td>...</td>\n",
       "      <td>...</td>\n",
       "      <td>...</td>\n",
       "      <td>...</td>\n",
       "      <td>...</td>\n",
       "      <td>...</td>\n",
       "      <td>...</td>\n",
       "      <td>...</td>\n",
       "      <td>...</td>\n",
       "    </tr>\n",
       "    <tr>\n",
       "      <th>49073</th>\n",
       "      <td>NaN</td>\n",
       "      <td>0</td>\n",
       "      <td>30840</td>\n",
       "      <td>en</td>\n",
       "      <td>5.683753</td>\n",
       "      <td>[{'iso_3166_1': 'CA', 'name': 'Canada'}, {'iso...</td>\n",
       "      <td>1991-05-13</td>\n",
       "      <td>0.0</td>\n",
       "      <td>104.0</td>\n",
       "      <td>[{'iso_639_1': 'en', 'name': 'English'}]</td>\n",
       "      <td>Released</td>\n",
       "      <td>Robin Hood</td>\n",
       "      <td>5.7</td>\n",
       "      <td>26.0</td>\n",
       "      <td>Drama</td>\n",
       "      <td>Action</td>\n",
       "      <td>Westdeutscher Rundfunk (WDR)</td>\n",
       "      <td>Working Title Films</td>\n",
       "      <td>United States of America</td>\n",
       "      <td>English</td>\n",
       "      <td>1991</td>\n",
       "      <td>0.000000</td>\n",
       "      <td>John Irvin</td>\n",
       "    </tr>\n",
       "    <tr>\n",
       "      <th>49074</th>\n",
       "      <td>NaN</td>\n",
       "      <td>0</td>\n",
       "      <td>111109</td>\n",
       "      <td>tl</td>\n",
       "      <td>0.178241</td>\n",
       "      <td>[{'iso_3166_1': 'PH', 'name': 'Philippines'}]</td>\n",
       "      <td>2011-11-17</td>\n",
       "      <td>0.0</td>\n",
       "      <td>360.0</td>\n",
       "      <td>[{'iso_639_1': 'tl', 'name': ''}]</td>\n",
       "      <td>Released</td>\n",
       "      <td>Century of Birthing</td>\n",
       "      <td>9.0</td>\n",
       "      <td>3.0</td>\n",
       "      <td>Drama</td>\n",
       "      <td>NaN</td>\n",
       "      <td>Sine Olivia</td>\n",
       "      <td>NaN</td>\n",
       "      <td>Philippines</td>\n",
       "      <td>NaN</td>\n",
       "      <td>2011</td>\n",
       "      <td>0.000000</td>\n",
       "      <td>Lav Diaz</td>\n",
       "    </tr>\n",
       "    <tr>\n",
       "      <th>49075</th>\n",
       "      <td>NaN</td>\n",
       "      <td>0</td>\n",
       "      <td>67758</td>\n",
       "      <td>en</td>\n",
       "      <td>0.903007</td>\n",
       "      <td>[{'iso_3166_1': 'US', 'name': 'United States o...</td>\n",
       "      <td>2003-08-01</td>\n",
       "      <td>0.0</td>\n",
       "      <td>90.0</td>\n",
       "      <td>[{'iso_639_1': 'en', 'name': 'English'}]</td>\n",
       "      <td>Released</td>\n",
       "      <td>Betrayal</td>\n",
       "      <td>3.8</td>\n",
       "      <td>6.0</td>\n",
       "      <td>Action</td>\n",
       "      <td>Drama</td>\n",
       "      <td>American World Pictures</td>\n",
       "      <td>NaN</td>\n",
       "      <td>United States of America</td>\n",
       "      <td>English</td>\n",
       "      <td>2003</td>\n",
       "      <td>0.000000</td>\n",
       "      <td>Mark L. Lester</td>\n",
       "    </tr>\n",
       "    <tr>\n",
       "      <th>49076</th>\n",
       "      <td>NaN</td>\n",
       "      <td>0</td>\n",
       "      <td>227506</td>\n",
       "      <td>en</td>\n",
       "      <td>0.003503</td>\n",
       "      <td>[{'iso_3166_1': 'RU', 'name': 'Russia'}]</td>\n",
       "      <td>1917-10-21</td>\n",
       "      <td>0.0</td>\n",
       "      <td>87.0</td>\n",
       "      <td>[]</td>\n",
       "      <td>Released</td>\n",
       "      <td>Satan Triumphant</td>\n",
       "      <td>0.0</td>\n",
       "      <td>0.0</td>\n",
       "      <td>NaN</td>\n",
       "      <td>NaN</td>\n",
       "      <td>Yermoliev</td>\n",
       "      <td>NaN</td>\n",
       "      <td>Russia</td>\n",
       "      <td>NaN</td>\n",
       "      <td>1917</td>\n",
       "      <td>0.000000</td>\n",
       "      <td>Yakov Protazanov</td>\n",
       "    </tr>\n",
       "    <tr>\n",
       "      <th>49077</th>\n",
       "      <td>NaN</td>\n",
       "      <td>0</td>\n",
       "      <td>461257</td>\n",
       "      <td>en</td>\n",
       "      <td>0.163015</td>\n",
       "      <td>[{'iso_3166_1': 'GB', 'name': 'United Kingdom'}]</td>\n",
       "      <td>2017-06-09</td>\n",
       "      <td>0.0</td>\n",
       "      <td>75.0</td>\n",
       "      <td>[{'iso_639_1': 'en', 'name': 'English'}]</td>\n",
       "      <td>Released</td>\n",
       "      <td>Queerama</td>\n",
       "      <td>0.0</td>\n",
       "      <td>0.0</td>\n",
       "      <td>NaN</td>\n",
       "      <td>NaN</td>\n",
       "      <td>NaN</td>\n",
       "      <td>NaN</td>\n",
       "      <td>United Kingdom</td>\n",
       "      <td>English</td>\n",
       "      <td>2017</td>\n",
       "      <td>0.000000</td>\n",
       "      <td>Daisy Asquith</td>\n",
       "    </tr>\n",
       "  </tbody>\n",
       "</table>\n",
       "<p>48632 rows × 23 columns</p>\n",
       "</div>"
      ],
      "text/plain": [
       "                belongs_to_collection    budget      id original_language  \\\n",
       "0                Toy Story Collection  30000000     862                en   \n",
       "1                                 NaN  65000000    8844                en   \n",
       "2           Grumpy Old Men Collection         0   15602                en   \n",
       "3                                 NaN  16000000   31357                en   \n",
       "4      Father of the Bride Collection         0   11862                en   \n",
       "...                               ...       ...     ...               ...   \n",
       "49073                             NaN         0   30840                en   \n",
       "49074                             NaN         0  111109                tl   \n",
       "49075                             NaN         0   67758                en   \n",
       "49076                             NaN         0  227506                en   \n",
       "49077                             NaN         0  461257                en   \n",
       "\n",
       "       popularity                               production_countries  \\\n",
       "0       21.946943  [{'iso_3166_1': 'US', 'name': 'United States o...   \n",
       "1       17.015539  [{'iso_3166_1': 'US', 'name': 'United States o...   \n",
       "2       11.712900  [{'iso_3166_1': 'US', 'name': 'United States o...   \n",
       "3        3.859495  [{'iso_3166_1': 'US', 'name': 'United States o...   \n",
       "4        8.387519  [{'iso_3166_1': 'US', 'name': 'United States o...   \n",
       "...           ...                                                ...   \n",
       "49073    5.683753  [{'iso_3166_1': 'CA', 'name': 'Canada'}, {'iso...   \n",
       "49074    0.178241      [{'iso_3166_1': 'PH', 'name': 'Philippines'}]   \n",
       "49075    0.903007  [{'iso_3166_1': 'US', 'name': 'United States o...   \n",
       "49076    0.003503           [{'iso_3166_1': 'RU', 'name': 'Russia'}]   \n",
       "49077    0.163015   [{'iso_3166_1': 'GB', 'name': 'United Kingdom'}]   \n",
       "\n",
       "      release_date      revenue  runtime  \\\n",
       "0       1995-10-30  373554033.0     81.0   \n",
       "1       1995-12-15  262797249.0    104.0   \n",
       "2       1995-12-22          0.0    101.0   \n",
       "3       1995-12-22   81452156.0    127.0   \n",
       "4       1995-02-10   76578911.0    106.0   \n",
       "...            ...          ...      ...   \n",
       "49073   1991-05-13          0.0    104.0   \n",
       "49074   2011-11-17          0.0    360.0   \n",
       "49075   2003-08-01          0.0     90.0   \n",
       "49076   1917-10-21          0.0     87.0   \n",
       "49077   2017-06-09          0.0     75.0   \n",
       "\n",
       "                                        spoken_languages    status  \\\n",
       "0               [{'iso_639_1': 'en', 'name': 'English'}]  Released   \n",
       "1      [{'iso_639_1': 'en', 'name': 'English'}, {'iso...  Released   \n",
       "2               [{'iso_639_1': 'en', 'name': 'English'}]  Released   \n",
       "3               [{'iso_639_1': 'en', 'name': 'English'}]  Released   \n",
       "4               [{'iso_639_1': 'en', 'name': 'English'}]  Released   \n",
       "...                                                  ...       ...   \n",
       "49073           [{'iso_639_1': 'en', 'name': 'English'}]  Released   \n",
       "49074                  [{'iso_639_1': 'tl', 'name': ''}]  Released   \n",
       "49075           [{'iso_639_1': 'en', 'name': 'English'}]  Released   \n",
       "49076                                                 []  Released   \n",
       "49077           [{'iso_639_1': 'en', 'name': 'English'}]  Released   \n",
       "\n",
       "                             title  vote_average  vote_count    genero1  \\\n",
       "0                        Toy Story           7.7      5415.0  Animation   \n",
       "1                          Jumanji           6.9      2413.0  Adventure   \n",
       "2                 Grumpier Old Men           6.5        92.0    Romance   \n",
       "3                Waiting to Exhale           6.1        34.0     Comedy   \n",
       "4      Father of the Bride Part II           5.7       173.0     Comedy   \n",
       "...                            ...           ...         ...        ...   \n",
       "49073                   Robin Hood           5.7        26.0      Drama   \n",
       "49074          Century of Birthing           9.0         3.0      Drama   \n",
       "49075                     Betrayal           3.8         6.0     Action   \n",
       "49076             Satan Triumphant           0.0         0.0        NaN   \n",
       "49077                     Queerama           0.0         0.0        NaN   \n",
       "\n",
       "       genero2                              prcompany1           prcompany2  \\\n",
       "0       Comedy                 Pixar Animation Studios                  NaN   \n",
       "1      Fantasy                        TriStar Pictures         Teitler Film   \n",
       "2       Comedy                            Warner Bros.       Lancaster Gate   \n",
       "3        Drama  Twentieth Century Fox Film Corporation                  NaN   \n",
       "4          NaN                   Sandollar Productions  Touchstone Pictures   \n",
       "...        ...                                     ...                  ...   \n",
       "49073   Action            Westdeutscher Rundfunk (WDR)  Working Title Films   \n",
       "49074      NaN                             Sine Olivia                  NaN   \n",
       "49075    Drama                 American World Pictures                  NaN   \n",
       "49076      NaN                               Yermoliev                  NaN   \n",
       "49077      NaN                                     NaN                  NaN   \n",
       "\n",
       "                        country  language  release_year     return  \\\n",
       "0      United States of America   English          1995  12.451801   \n",
       "1      United States of America  Français          1995   4.043035   \n",
       "2      United States of America   English          1995   0.000000   \n",
       "3      United States of America   English          1995   5.090760   \n",
       "4      United States of America   English          1995   0.000000   \n",
       "...                         ...       ...           ...        ...   \n",
       "49073  United States of America   English          1991   0.000000   \n",
       "49074               Philippines       NaN          2011   0.000000   \n",
       "49075  United States of America   English          2003   0.000000   \n",
       "49076                    Russia       NaN          1917   0.000000   \n",
       "49077            United Kingdom   English          2017   0.000000   \n",
       "\n",
       "               director  \n",
       "0         John Lasseter  \n",
       "1          Joe Johnston  \n",
       "2         Howard Deutch  \n",
       "3       Forest Whitaker  \n",
       "4         Charles Shyer  \n",
       "...                 ...  \n",
       "49073        John Irvin  \n",
       "49074          Lav Diaz  \n",
       "49075    Mark L. Lester  \n",
       "49076  Yakov Protazanov  \n",
       "49077     Daisy Asquith  \n",
       "\n",
       "[48632 rows x 23 columns]"
      ]
     },
     "execution_count": 6,
     "metadata": {},
     "output_type": "execute_result"
    }
   ],
   "source": [
    "df"
   ]
  },
  {
   "cell_type": "code",
   "execution_count": 7,
   "metadata": {},
   "outputs": [],
   "source": [
    "df.to_csv('df_directores.csv')"
   ]
  }
 ],
 "metadata": {
  "kernelspec": {
   "display_name": "Python 3",
   "language": "python",
   "name": "python3"
  },
  "language_info": {
   "codemirror_mode": {
    "name": "ipython",
    "version": 3
   },
   "file_extension": ".py",
   "mimetype": "text/x-python",
   "name": "python",
   "nbconvert_exporter": "python",
   "pygments_lexer": "ipython3",
   "version": "3.10.5"
  },
  "orig_nbformat": 4
 },
 "nbformat": 4,
 "nbformat_minor": 2
}
